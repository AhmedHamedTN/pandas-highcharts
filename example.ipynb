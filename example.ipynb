{
 "metadata": {
  "name": "",
  "signature": "sha256:45123bc9ccb9e8d0b644a9b0b56d2a52f06ab9213e5e8b436db7c936ba82fed0"
 },
 "nbformat": 3,
 "nbformat_minor": 0,
 "worksheets": [
  {
   "cells": [
    {
     "cell_type": "heading",
     "level": 2,
     "metadata": {},
     "source": [
      "1. Import data"
     ]
    },
    {
     "cell_type": "code",
     "collapsed": false,
     "input": [
      "import pandas as pd\n",
      "import datetime\n",
      "import pytz\n",
      "from urllib2 import urlopen\n",
      "from IPython.display import display, display_pretty, Javascript, HTML\n",
      "from pandas_highcharts.core import serialize\n",
      "\n",
      "df = pd.read_csv(\n",
      "    urlopen('http://www.quandl.com/api/v1/datasets/ODA/DEU_PCPIPCH.csv?column=1')\n",
      ")\n",
      "df[\"Date\"] = df[\"Date\"].apply(lambda x: int(x[:4]))\n",
      "df = df.sort(\"Date\")"
     ],
     "language": "python",
     "metadata": {},
     "outputs": [],
     "prompt_number": 14
    },
    {
     "cell_type": "heading",
     "level": 2,
     "metadata": {},
     "source": [
      "2. Import of highcharts library"
     ]
    },
    {
     "cell_type": "code",
     "collapsed": false,
     "input": [
      "display(HTML(\"\"\"\n",
      "    <script type=\"text/javascript\" src=\"http://code.highcharts.com/highcharts.js\"></script>\n",
      "\"\"\" % locals()))\n"
     ],
     "language": "python",
     "metadata": {},
     "outputs": [
      {
       "html": [
        "\n",
        "    <script type=\"text/javascript\" src=\"http://code.highcharts.com/highcharts.js\"></script>\n"
       ],
       "metadata": {},
       "output_type": "display_data",
       "text": [
        "<IPython.core.display.HTML at 0x1021ce5d0>"
       ]
      }
     ],
     "prompt_number": 2
    },
    {
     "cell_type": "code",
     "collapsed": false,
     "input": [
      "chart = serialize(df, x=\"Date\", title=\"Germany inflation rate\", render_to=\"chart1\")\n",
      "display(HTML(\"\"\"\n",
      "    <div id=\"chart1\"></div>\n",
      "    <script type=\"text/javascript\">%(chart)s</script>\"\"\" % locals()))"
     ],
     "language": "python",
     "metadata": {},
     "outputs": [
      {
       "html": [
        "\n",
        "    <div id=\"chart1\"></div>\n",
        "    <script type=\"text/javascript\">new Highcharts.Chart({\"title\": {\"text\": \"Germany inflation rate\"}, \"series\": [{\"data\": [[1980, 5.4470000000000001], [1981, 6.3239999999999998], [1982, 5.2560000000000002], [1983, 3.2839999999999998], [1984, 2.3959999999999999], [1985, 2.0840000000000001], [1986, -0.125], [1987, 0.24199999999999999], [1988, 1.274], [1989, 2.778], [1990, 2.6869999999999998], [1991, 3.4739999999999998], [1992, 5.0460000000000003], [1993, 4.476], [1994, 2.7170000000000001], [1995, 1.7330000000000001], [1996, 1.1899999999999999], [1997, 1.5419999999999998], [1998, 0.59299999999999997], [1999, 0.626], [2000, 1.4180000000000001], [2001, 1.9040000000000001], [2002, 1.3459999999999999], [2003, 1.022], [2004, 1.7990000000000002], [2005, 1.9199999999999999], [2006, 1.784], [2007, 2.2850000000000001], [2008, 2.738], [2009, 0.22600000000000001], [2010, 1.1579999999999999], [2011, 2.4980000000000002], [2012, 2.1299999999999999], [2013, 1.601], [2014, 1.361], [2015, 1.357], [2016, 1.6000000000000001], [2017, 1.7], [2018, 1.7], [2019, 1.7]], \"name\": \"Value\", \"yAxis\": 0}], \"yAxis\": [{}], \"chart\": {\"renderTo\": \"chart1\"}, \"xAxis\": {\"title\": {\"text\": \"Date\"}}, \"legend\": {\"enabled\": true}});</script>"
       ],
       "metadata": {},
       "output_type": "display_data",
       "text": [
        "<IPython.core.display.HTML at 0x1021d3550>"
       ]
      }
     ],
     "prompt_number": 3
    },
    {
     "cell_type": "code",
     "collapsed": false,
     "input": [
      "chart = serialize(df, x=\"Date\", title=\"Germany inflation rate\", kind=\"bar\", render_to=\"chart2\")\n",
      "display(HTML(\"\"\"\n",
      "    <div id=\"chart2\"></div>\n",
      "    <script type=\"text/javascript\">%(chart)s</script>\"\"\" % locals()))"
     ],
     "language": "python",
     "metadata": {},
     "outputs": [
      {
       "html": [
        "\n",
        "    <div id=\"chart2\"></div>\n",
        "    <script type=\"text/javascript\">new Highcharts.Chart({\"title\": {\"text\": \"Germany inflation rate\"}, \"series\": [{\"data\": [[1980, 5.4470000000000001], [1981, 6.3239999999999998], [1982, 5.2560000000000002], [1983, 3.2839999999999998], [1984, 2.3959999999999999], [1985, 2.0840000000000001], [1986, -0.125], [1987, 0.24199999999999999], [1988, 1.274], [1989, 2.778], [1990, 2.6869999999999998], [1991, 3.4739999999999998], [1992, 5.0460000000000003], [1993, 4.476], [1994, 2.7170000000000001], [1995, 1.7330000000000001], [1996, 1.1899999999999999], [1997, 1.5419999999999998], [1998, 0.59299999999999997], [1999, 0.626], [2000, 1.4180000000000001], [2001, 1.9040000000000001], [2002, 1.3459999999999999], [2003, 1.022], [2004, 1.7990000000000002], [2005, 1.9199999999999999], [2006, 1.784], [2007, 2.2850000000000001], [2008, 2.738], [2009, 0.22600000000000001], [2010, 1.1579999999999999], [2011, 2.4980000000000002], [2012, 2.1299999999999999], [2013, 1.601], [2014, 1.361], [2015, 1.357], [2016, 1.6000000000000001], [2017, 1.7], [2018, 1.7], [2019, 1.7]], \"name\": \"Value\", \"yAxis\": 0}], \"yAxis\": [{}], \"chart\": {\"renderTo\": \"chart2\", \"type\": \"column\"}, \"xAxis\": {\"title\": {\"text\": \"Date\"}}, \"legend\": {\"enabled\": true}});</script>"
       ],
       "metadata": {},
       "output_type": "display_data",
       "text": [
        "<IPython.core.display.HTML at 0x104dbd410>"
       ]
      }
     ],
     "prompt_number": 4
    },
    {
     "cell_type": "code",
     "collapsed": false,
     "input": [
      "chart = serialize(df, x=\"Date\", title=\"Germany inflation rate\", kind=\"barh\", render_to=\"chart3\")\n",
      "display(HTML(\"\"\"\n",
      "    <div id=\"chart3\"></div>\n",
      "    <script type=\"text/javascript\">%(chart)s</script>\"\"\" % locals()))"
     ],
     "language": "python",
     "metadata": {},
     "outputs": [
      {
       "html": [
        "\n",
        "    <div id=\"chart3\"></div>\n",
        "    <script type=\"text/javascript\">new Highcharts.Chart({\"title\": {\"text\": \"Germany inflation rate\"}, \"series\": [{\"data\": [[1980, 5.4470000000000001], [1981, 6.3239999999999998], [1982, 5.2560000000000002], [1983, 3.2839999999999998], [1984, 2.3959999999999999], [1985, 2.0840000000000001], [1986, -0.125], [1987, 0.24199999999999999], [1988, 1.274], [1989, 2.778], [1990, 2.6869999999999998], [1991, 3.4739999999999998], [1992, 5.0460000000000003], [1993, 4.476], [1994, 2.7170000000000001], [1995, 1.7330000000000001], [1996, 1.1899999999999999], [1997, 1.5419999999999998], [1998, 0.59299999999999997], [1999, 0.626], [2000, 1.4180000000000001], [2001, 1.9040000000000001], [2002, 1.3459999999999999], [2003, 1.022], [2004, 1.7990000000000002], [2005, 1.9199999999999999], [2006, 1.784], [2007, 2.2850000000000001], [2008, 2.738], [2009, 0.22600000000000001], [2010, 1.1579999999999999], [2011, 2.4980000000000002], [2012, 2.1299999999999999], [2013, 1.601], [2014, 1.361], [2015, 1.357], [2016, 1.6000000000000001], [2017, 1.7], [2018, 1.7], [2019, 1.7]], \"name\": \"Value\", \"yAxis\": 0}], \"yAxis\": [{}], \"chart\": {\"renderTo\": \"chart3\", \"type\": \"bar\"}, \"xAxis\": {\"title\": {\"text\": \"Date\"}}, \"legend\": {\"enabled\": true}});</script>"
       ],
       "metadata": {},
       "output_type": "display_data",
       "text": [
        "<IPython.core.display.HTML at 0x1021d3590>"
       ]
      }
     ],
     "prompt_number": 5
    },
    {
     "cell_type": "code",
     "collapsed": false,
     "input": [
      "chart = serialize(df, x=\"Date\", title=\"Germany inflation rate\", legend=None, kind=\"bar\", figsize = (400, 200), render_to=\"chart4\")\n",
      "display(HTML(\"\"\"\n",
      "    <div id=\"chart4\"></div>\n",
      "    <script type=\"text/javascript\">%(chart)s</script>\"\"\" % locals()))"
     ],
     "language": "python",
     "metadata": {},
     "outputs": [
      {
       "html": [
        "\n",
        "    <div id=\"chart4\"></div>\n",
        "    <script type=\"text/javascript\">new Highcharts.Chart({\"title\": {\"text\": \"Germany inflation rate\"}, \"series\": [{\"data\": [[1980, 5.4470000000000001], [1981, 6.3239999999999998], [1982, 5.2560000000000002], [1983, 3.2839999999999998], [1984, 2.3959999999999999], [1985, 2.0840000000000001], [1986, -0.125], [1987, 0.24199999999999999], [1988, 1.274], [1989, 2.778], [1990, 2.6869999999999998], [1991, 3.4739999999999998], [1992, 5.0460000000000003], [1993, 4.476], [1994, 2.7170000000000001], [1995, 1.7330000000000001], [1996, 1.1899999999999999], [1997, 1.5419999999999998], [1998, 0.59299999999999997], [1999, 0.626], [2000, 1.4180000000000001], [2001, 1.9040000000000001], [2002, 1.3459999999999999], [2003, 1.022], [2004, 1.7990000000000002], [2005, 1.9199999999999999], [2006, 1.784], [2007, 2.2850000000000001], [2008, 2.738], [2009, 0.22600000000000001], [2010, 1.1579999999999999], [2011, 2.4980000000000002], [2012, 2.1299999999999999], [2013, 1.601], [2014, 1.361], [2015, 1.357], [2016, 1.6000000000000001], [2017, 1.7], [2018, 1.7], [2019, 1.7]], \"name\": \"Value\", \"yAxis\": 0}], \"yAxis\": [{}], \"chart\": {\"width\": 400, \"renderTo\": \"chart4\", \"type\": \"column\", \"height\": 200}, \"xAxis\": {\"title\": {\"text\": \"Date\"}}, \"legend\": {\"enabled\": null}});</script>"
       ],
       "metadata": {},
       "output_type": "display_data",
       "text": [
        "<IPython.core.display.HTML at 0x104dbd650>"
       ]
      }
     ],
     "prompt_number": 6
    },
    {
     "cell_type": "code",
     "collapsed": false,
     "input": [
      "chart = serialize(df, x=\"Date\", title=\"Germany inflation rate\", kind=\"bar\", render_to=\"chart5\", zoom=\"xy\")\n",
      "display(HTML(\"\"\"\n",
      "    <div id=\"chart5\"></div>\n",
      "    <script type=\"text/javascript\">%(chart)s</script>\"\"\" % locals()))"
     ],
     "language": "python",
     "metadata": {},
     "outputs": [
      {
       "html": [
        "\n",
        "    <div id=\"chart5\"></div>\n",
        "    <script type=\"text/javascript\">new Highcharts.Chart({\"title\": {\"text\": \"Germany inflation rate\"}, \"series\": [{\"data\": [[1980, 5.4470000000000001], [1981, 6.3239999999999998], [1982, 5.2560000000000002], [1983, 3.2839999999999998], [1984, 2.3959999999999999], [1985, 2.0840000000000001], [1986, -0.125], [1987, 0.24199999999999999], [1988, 1.274], [1989, 2.778], [1990, 2.6869999999999998], [1991, 3.4739999999999998], [1992, 5.0460000000000003], [1993, 4.476], [1994, 2.7170000000000001], [1995, 1.7330000000000001], [1996, 1.1899999999999999], [1997, 1.5419999999999998], [1998, 0.59299999999999997], [1999, 0.626], [2000, 1.4180000000000001], [2001, 1.9040000000000001], [2002, 1.3459999999999999], [2003, 1.022], [2004, 1.7990000000000002], [2005, 1.9199999999999999], [2006, 1.784], [2007, 2.2850000000000001], [2008, 2.738], [2009, 0.22600000000000001], [2010, 1.1579999999999999], [2011, 2.4980000000000002], [2012, 2.1299999999999999], [2013, 1.601], [2014, 1.361], [2015, 1.357], [2016, 1.6000000000000001], [2017, 1.7], [2018, 1.7], [2019, 1.7]], \"name\": \"Value\", \"yAxis\": 0}], \"yAxis\": [{}], \"chart\": {\"zoomType\": \"xy\", \"renderTo\": \"chart5\", \"type\": \"column\"}, \"xAxis\": {\"title\": {\"text\": \"Date\"}}, \"legend\": {\"enabled\": true}});</script>"
       ],
       "metadata": {},
       "output_type": "display_data",
       "text": [
        "<IPython.core.display.HTML at 0x104dbd210>"
       ]
      }
     ],
     "prompt_number": 8
    },
    {
     "cell_type": "code",
     "collapsed": false,
     "input": [
      "df = pd.DataFrame([\n",
      "    {\"a\": 1, \"b\": 2, \"c\": 3, \"t\": datetime.datetime(2015, 1, 1, 0)},\n",
      "    {\"a\": 2, \"b\": 4, \"c\": 6, \"t\": datetime.datetime(2015, 1, 1, 1)}\n",
      "])\n",
      "chart = serialize(df, x=\"t\", y=[\"a\"], kind=\"bar\", render_to=\"chart6\")\n",
      "display(HTML(\"\"\"\n",
      "    <div id=\"chart6\"></div>\n",
      "    <script type=\"text/javascript\">%(chart)s</script>\"\"\" % locals()))"
     ],
     "language": "python",
     "metadata": {},
     "outputs": [
      {
       "html": [
        "\n",
        "    <div id=\"chart6\"></div>\n",
        "    <script type=\"text/javascript\">new Highcharts.Chart({\"series\": [{\"data\": [[1420070400000, 1], [1420074000000, 2]], \"name\": \"a\", \"yAxis\": 0}], \"yAxis\": [{}], \"chart\": {\"renderTo\": \"chart6\", \"type\": \"column\"}, \"xAxis\": {\"type\": \"datetime\", \"title\": {\"text\": \"t\"}}, \"legend\": {\"enabled\": true}});</script>"
       ],
       "metadata": {},
       "output_type": "display_data",
       "text": [
        "<IPython.core.display.HTML at 0x104dbd910>"
       ]
      }
     ],
     "prompt_number": 16
    }
   ],
   "metadata": {}
  }
 ]
}
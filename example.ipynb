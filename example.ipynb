{
 "metadata": {
  "name": "",
  "signature": "sha256:e5a88245f3f98c01e3a64beecdee9fe4a504e5befabb57028f6e98d2d5c60102"
 },
 "nbformat": 3,
 "nbformat_minor": 0,
 "worksheets": [
  {
   "cells": [
    {
     "cell_type": "heading",
     "level": 2,
     "metadata": {},
     "source": [
      "1. Import data"
     ]
    },
    {
     "cell_type": "code",
     "collapsed": false,
     "input": [
      "import pandas as pd\n",
      "from urllib2 import urlopen\n",
      "from IPython.display import display, display_pretty, Javascript, HTML\n",
      "from pandas_highcharts.core import serialize\n",
      "\n",
      "df = pd.read_csv(\n",
      "    urlopen('http://www.quandl.com/api/v1/datasets/ODA/DEU_PCPIPCH.csv?column=1')\n",
      ")\n",
      "df[\"Date\"] = df[\"Date\"].apply(lambda x: int(x[:4]))\n",
      "df = df.sort(\"Date\")"
     ],
     "language": "python",
     "metadata": {},
     "outputs": [],
     "prompt_number": 1
    },
    {
     "cell_type": "heading",
     "level": 2,
     "metadata": {},
     "source": [
      "2. Import of highcharts library"
     ]
    },
    {
     "cell_type": "code",
     "collapsed": false,
     "input": [
      "display(HTML(\"\"\"\n",
      "    <script type=\"text/javascript\" src=\"http://code.highcharts.com/highcharts.js\"></script>\n",
      "\"\"\" % locals()))\n"
     ],
     "language": "python",
     "metadata": {},
     "outputs": [
      {
       "html": [
        "\n",
        "    <script type=\"text/javascript\" src=\"http://code.highcharts.com/highcharts.js\"></script>\n"
       ],
       "metadata": {},
       "output_type": "display_data",
       "text": [
        "<IPython.core.display.HTML at 0x10a2315d0>"
       ]
      }
     ],
     "prompt_number": 2
    },
    {
     "cell_type": "code",
     "collapsed": false,
     "input": [
      "chart = serialize(df, x=\"Date\", title=\"Germany inflation rate\", render_to=\"chart1\")\n",
      "display(HTML(\"\"\"\n",
      "    <div id=\"chart1\"></div>\n",
      "    <script type=\"text/javascript\">%(chart)s</script>\"\"\" % locals()))"
     ],
     "language": "python",
     "metadata": {},
     "outputs": [
      {
       "html": [
        "\n",
        "    <div id=\"chart1\"></div>\n",
        "    <script type=\"text/javascript\">new Highcharts.Chart({\"title\": {\"text\": \"Germany inflation rate\"}, \"series\": [{\"data\": [[1980, 5.4470000000000001], [1981, 6.3239999999999998], [1982, 5.2560000000000002], [1983, 3.2839999999999998], [1984, 2.3959999999999999], [1985, 2.0840000000000001], [1986, -0.125], [1987, 0.24199999999999999], [1988, 1.274], [1989, 2.778], [1990, 2.6869999999999998], [1991, 3.4739999999999998], [1992, 5.0460000000000003], [1993, 4.476], [1994, 2.7170000000000001], [1995, 1.7330000000000001], [1996, 1.1899999999999999], [1997, 1.5419999999999998], [1998, 0.59299999999999997], [1999, 0.626], [2000, 1.4180000000000001], [2001, 1.9040000000000001], [2002, 1.3459999999999999], [2003, 1.022], [2004, 1.7990000000000002], [2005, 1.9199999999999999], [2006, 1.784], [2007, 2.2850000000000001], [2008, 2.738], [2009, 0.22600000000000001], [2010, 1.1579999999999999], [2011, 2.4980000000000002], [2012, 2.1299999999999999], [2013, 1.601], [2014, 1.361], [2015, 1.357], [2016, 1.6000000000000001], [2017, 1.7], [2018, 1.7], [2019, 1.7]], \"name\": \"Value\", \"yAxis\": 0}], \"yAxis\": [{}], \"chart\": {\"renderTo\": \"chart1\"}, \"xAxis\": {\"title\": {\"text\": \"Date\"}}, \"legend\": {\"enabled\": true}});</script>"
       ],
       "metadata": {},
       "output_type": "display_data",
       "text": [
        "<IPython.core.display.HTML at 0x10a22c850>"
       ]
      }
     ],
     "prompt_number": 5
    },
    {
     "cell_type": "code",
     "collapsed": false,
     "input": [
      "chart = serialize(df, x=\"Date\", title=\"Germany inflation rate\", kind=\"bar\", render_to=\"chart2\")\n",
      "display(HTML(\"\"\"\n",
      "    <div id=\"chart2\"></div>\n",
      "    <script type=\"text/javascript\">%(chart)s</script>\"\"\" % locals()))"
     ],
     "language": "python",
     "metadata": {},
     "outputs": [
      {
       "html": [
        "\n",
        "    <div id=\"chart2\"></div>\n",
        "    <script type=\"text/javascript\">new Highcharts.Chart({\"title\": {\"text\": \"Germany inflation rate\"}, \"series\": [{\"data\": [[1980, 5.4470000000000001], [1981, 6.3239999999999998], [1982, 5.2560000000000002], [1983, 3.2839999999999998], [1984, 2.3959999999999999], [1985, 2.0840000000000001], [1986, -0.125], [1987, 0.24199999999999999], [1988, 1.274], [1989, 2.778], [1990, 2.6869999999999998], [1991, 3.4739999999999998], [1992, 5.0460000000000003], [1993, 4.476], [1994, 2.7170000000000001], [1995, 1.7330000000000001], [1996, 1.1899999999999999], [1997, 1.5419999999999998], [1998, 0.59299999999999997], [1999, 0.626], [2000, 1.4180000000000001], [2001, 1.9040000000000001], [2002, 1.3459999999999999], [2003, 1.022], [2004, 1.7990000000000002], [2005, 1.9199999999999999], [2006, 1.784], [2007, 2.2850000000000001], [2008, 2.738], [2009, 0.22600000000000001], [2010, 1.1579999999999999], [2011, 2.4980000000000002], [2012, 2.1299999999999999], [2013, 1.601], [2014, 1.361], [2015, 1.357], [2016, 1.6000000000000001], [2017, 1.7], [2018, 1.7], [2019, 1.7]], \"name\": \"Value\", \"yAxis\": 0}], \"yAxis\": [{}], \"chart\": {\"renderTo\": \"chart2\", \"type\": \"column\"}, \"xAxis\": {\"title\": {\"text\": \"Date\"}}, \"legend\": {\"enabled\": true}});</script>"
       ],
       "metadata": {},
       "output_type": "display_data",
       "text": [
        "<IPython.core.display.HTML at 0x10cd11f10>"
       ]
      }
     ],
     "prompt_number": 7
    },
    {
     "cell_type": "code",
     "collapsed": false,
     "input": [
      "chart = serialize(df, x=\"Date\", title=\"Germany inflation rate\", kind=\"barh\", render_to=\"chart3\")\n",
      "display(HTML(\"\"\"\n",
      "    <div id=\"chart3\"></div>\n",
      "    <script type=\"text/javascript\">%(chart)s</script>\"\"\" % locals()))"
     ],
     "language": "python",
     "metadata": {},
     "outputs": [
      {
       "html": [
        "\n",
        "    <div id=\"chart3\"></div>\n",
        "    <script type=\"text/javascript\">new Highcharts.Chart({\"title\": {\"text\": \"Germany inflation rate\"}, \"series\": [{\"data\": [[1980, 5.4470000000000001], [1981, 6.3239999999999998], [1982, 5.2560000000000002], [1983, 3.2839999999999998], [1984, 2.3959999999999999], [1985, 2.0840000000000001], [1986, -0.125], [1987, 0.24199999999999999], [1988, 1.274], [1989, 2.778], [1990, 2.6869999999999998], [1991, 3.4739999999999998], [1992, 5.0460000000000003], [1993, 4.476], [1994, 2.7170000000000001], [1995, 1.7330000000000001], [1996, 1.1899999999999999], [1997, 1.5419999999999998], [1998, 0.59299999999999997], [1999, 0.626], [2000, 1.4180000000000001], [2001, 1.9040000000000001], [2002, 1.3459999999999999], [2003, 1.022], [2004, 1.7990000000000002], [2005, 1.9199999999999999], [2006, 1.784], [2007, 2.2850000000000001], [2008, 2.738], [2009, 0.22600000000000001], [2010, 1.1579999999999999], [2011, 2.4980000000000002], [2012, 2.1299999999999999], [2013, 1.601], [2014, 1.361], [2015, 1.357], [2016, 1.6000000000000001], [2017, 1.7], [2018, 1.7], [2019, 1.7]], \"name\": \"Value\", \"yAxis\": 0}], \"yAxis\": [{}], \"chart\": {\"renderTo\": \"chart3\", \"type\": \"bar\"}, \"xAxis\": {\"title\": {\"text\": \"Date\"}}, \"legend\": {\"enabled\": true}});</script>"
       ],
       "metadata": {},
       "output_type": "display_data",
       "text": [
        "<IPython.core.display.HTML at 0x10a22c050>"
       ]
      }
     ],
     "prompt_number": 9
    },
    {
     "cell_type": "code",
     "collapsed": false,
     "input": [
      "chart = serialize(df, x=\"Date\", title=\"Germany inflation rate\", legend=None, kind=\"bar\", figsize = (400, 200), render_to=\"chart4\")\n",
      "display(HTML(\"\"\"\n",
      "    <div id=\"chart4\"></div>\n",
      "    <script type=\"text/javascript\">%(chart)s</script>\"\"\" % locals()))"
     ],
     "language": "python",
     "metadata": {},
     "outputs": [
      {
       "html": [
        "\n",
        "    <div id=\"chart4\"></div>\n",
        "    <script type=\"text/javascript\">new Highcharts.Chart({\"title\": {\"text\": \"Germany inflation rate\"}, \"series\": [{\"data\": [[1980, 5.4470000000000001], [1981, 6.3239999999999998], [1982, 5.2560000000000002], [1983, 3.2839999999999998], [1984, 2.3959999999999999], [1985, 2.0840000000000001], [1986, -0.125], [1987, 0.24199999999999999], [1988, 1.274], [1989, 2.778], [1990, 2.6869999999999998], [1991, 3.4739999999999998], [1992, 5.0460000000000003], [1993, 4.476], [1994, 2.7170000000000001], [1995, 1.7330000000000001], [1996, 1.1899999999999999], [1997, 1.5419999999999998], [1998, 0.59299999999999997], [1999, 0.626], [2000, 1.4180000000000001], [2001, 1.9040000000000001], [2002, 1.3459999999999999], [2003, 1.022], [2004, 1.7990000000000002], [2005, 1.9199999999999999], [2006, 1.784], [2007, 2.2850000000000001], [2008, 2.738], [2009, 0.22600000000000001], [2010, 1.1579999999999999], [2011, 2.4980000000000002], [2012, 2.1299999999999999], [2013, 1.601], [2014, 1.361], [2015, 1.357], [2016, 1.6000000000000001], [2017, 1.7], [2018, 1.7], [2019, 1.7]], \"name\": \"Value\", \"yAxis\": 0}], \"yAxis\": [{}], \"chart\": {\"width\": 400, \"renderTo\": \"chart4\", \"type\": \"column\", \"height\": 200}, \"xAxis\": {\"title\": {\"text\": \"Date\"}}, \"legend\": {\"enabled\": null}});</script>"
       ],
       "metadata": {},
       "output_type": "display_data",
       "text": [
        "<IPython.core.display.HTML at 0x10cd5dc10>"
       ]
      }
     ],
     "prompt_number": 15
    }
   ],
   "metadata": {}
  }
 ]
}
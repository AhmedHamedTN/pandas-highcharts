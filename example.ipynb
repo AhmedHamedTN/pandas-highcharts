{
 "metadata": {
  "name": "",
  "signature": "sha256:b3f2eb511087611efbff784ec6d12ed1e4bb36dacb1db92faf0b14915537d7e8"
 },
 "nbformat": 3,
 "nbformat_minor": 0,
 "worksheets": [
  {
   "cells": [
    {
     "cell_type": "markdown",
     "metadata": {},
     "source": [
      "# Pandas Highcharts Example"
     ]
    },
    {
     "cell_type": "markdown",
     "metadata": {},
     "source": [
      "* Use [Highcharts](http://highcharts.com) to plot [pandas](http://pandas.pydata.org) DataFrame\n",
      "* Code on Github at [pandas-highcharts](https://github.com/gtnx/pandas-highcharts)"
     ]
    },
    {
     "cell_type": "markdown",
     "metadata": {},
     "source": [
      "## Import"
     ]
    },
    {
     "cell_type": "code",
     "collapsed": false,
     "input": [
      "import pandas as pd\n",
      "import datetime\n",
      "from urllib2 import urlopen\n",
      "from IPython.display import display, display_pretty, Javascript, HTML\n",
      "from pandas_highcharts.core import serialize\n",
      "from pandas_highcharts.display import display_charts\n",
      "\n",
      "df = pd.read_csv(\n",
      "    urlopen('http://www.quandl.com/api/v1/datasets/ODA/DEU_PCPIPCH.csv?column=1'),\n",
      "    index_col=0, parse_dates=True\n",
      ")"
     ],
     "language": "python",
     "metadata": {},
     "outputs": [
      {
       "html": [
        "<script src=\"http://code.highcharts.com/stock/highstock.js\"></script>\n",
        "<script src=\"http://code.highcharts.com/modules/exporting.js\"></script>\n"
       ],
       "metadata": {},
       "output_type": "display_data",
       "text": [
        "<IPython.core.display.HTML at 0x10a209f10>"
       ]
      }
     ],
     "prompt_number": 1
    },
    {
     "cell_type": "markdown",
     "metadata": {},
     "source": [
      "## Use the display_charts function"
     ]
    },
    {
     "cell_type": "code",
     "collapsed": false,
     "input": [
      "display_charts(df, title=\"Germany inflation rate\")"
     ],
     "language": "python",
     "metadata": {},
     "outputs": [
      {
       "html": [
        "<div id=\"chart_idYEELQynS\"</div>\n",
        "    <script type=\"text/javascript\">new Highcharts.Chart({\"title\":{\"text\":\"Germany inflation rate\"},\"series\":[{\"data\":[[347068800000,5.447],[378604800000,6.324],[410140800000,5.256],[441676800000,3.284],[473299200000,2.396],[504835200000,2.084],[536371200000,-0.125],[567907200000,0.242],[599529600000,1.274],[631065600000,2.778],[662601600000,2.687],[694137600000,3.474],[725760000000,5.046],[757296000000,4.476],[788832000000,2.717],[820368000000,1.733],[851990400000,1.19],[883526400000,1.542],[915062400000,0.593],[946598400000,0.626],[978220800000,1.418],[1009756800000,1.904],[1041292800000,1.346],[1072828800000,1.022],[1104451200000,1.799],[1135987200000,1.92],[1167523200000,1.784],[1199059200000,2.285],[1230681600000,2.738],[1262217600000,0.226],[1293753600000,1.158],[1325289600000,2.498],[1356912000000,2.13],[1388448000000,1.601],[1419984000000,1.361],[1451520000000,1.357],[1483142400000,1.6],[1514678400000,1.7],[1546214400000,1.7],[1577750400000,1.7]],\"name\":\"Value\",\"yAxis\":0}],\"yAxis\":[{}],\"chart\":{\"renderTo\":\"chart_idYEELQynS\"},\"xAxis\":{\"type\":\"datetime\",\"title\":{\"text\":\"Date\"}},\"legend\":{\"enabled\":true}});</script>"
       ],
       "metadata": {},
       "output_type": "display_data",
       "text": [
        "<IPython.core.display.HTML at 0x10761fb50>"
       ]
      }
     ],
     "prompt_number": 2
    },
    {
     "cell_type": "code",
     "collapsed": false,
     "input": [
      "display_charts(df, chart_type=\"stock\", title=\"Germany inflation rate\")"
     ],
     "language": "python",
     "metadata": {},
     "outputs": [
      {
       "html": [
        "<div id=\"chart_idhhTyWvxY\"</div>\n",
        "    <script type=\"text/javascript\">new Highcharts.StockChart({\"title\":{\"text\":\"Germany inflation rate\"},\"series\":[{\"data\":[[347068800000,5.447],[378604800000,6.324],[410140800000,5.256],[441676800000,3.284],[473299200000,2.396],[504835200000,2.084],[536371200000,-0.125],[567907200000,0.242],[599529600000,1.274],[631065600000,2.778],[662601600000,2.687],[694137600000,3.474],[725760000000,5.046],[757296000000,4.476],[788832000000,2.717],[820368000000,1.733],[851990400000,1.19],[883526400000,1.542],[915062400000,0.593],[946598400000,0.626],[978220800000,1.418],[1009756800000,1.904],[1041292800000,1.346],[1072828800000,1.022],[1104451200000,1.799],[1135987200000,1.92],[1167523200000,1.784],[1199059200000,2.285],[1230681600000,2.738],[1262217600000,0.226],[1293753600000,1.158],[1325289600000,2.498],[1356912000000,2.13],[1388448000000,1.601],[1419984000000,1.361],[1451520000000,1.357],[1483142400000,1.6],[1514678400000,1.7],[1546214400000,1.7],[1577750400000,1.7]],\"name\":\"Value\",\"yAxis\":0}],\"yAxis\":[{}],\"chart\":{\"renderTo\":\"chart_idhhTyWvxY\"},\"xAxis\":{\"type\":\"datetime\",\"title\":{\"text\":\"Date\"}},\"legend\":{\"enabled\":true}});</script>"
       ],
       "metadata": {},
       "output_type": "display_data",
       "text": [
        "<IPython.core.display.HTML at 0x10761f350>"
       ]
      }
     ],
     "prompt_number": 3
    },
    {
     "cell_type": "code",
     "collapsed": false,
     "input": [
      "display_charts(df, kind=\"bar\", title=\"Germany inflation rate\")"
     ],
     "language": "python",
     "metadata": {},
     "outputs": [
      {
       "html": [
        "<div id=\"chart_idztOToNzl\"</div>\n",
        "    <script type=\"text/javascript\">new Highcharts.Chart({\"title\":{\"text\":\"Germany inflation rate\"},\"series\":[{\"data\":[[347068800000,5.447],[378604800000,6.324],[410140800000,5.256],[441676800000,3.284],[473299200000,2.396],[504835200000,2.084],[536371200000,-0.125],[567907200000,0.242],[599529600000,1.274],[631065600000,2.778],[662601600000,2.687],[694137600000,3.474],[725760000000,5.046],[757296000000,4.476],[788832000000,2.717],[820368000000,1.733],[851990400000,1.19],[883526400000,1.542],[915062400000,0.593],[946598400000,0.626],[978220800000,1.418],[1009756800000,1.904],[1041292800000,1.346],[1072828800000,1.022],[1104451200000,1.799],[1135987200000,1.92],[1167523200000,1.784],[1199059200000,2.285],[1230681600000,2.738],[1262217600000,0.226],[1293753600000,1.158],[1325289600000,2.498],[1356912000000,2.13],[1388448000000,1.601],[1419984000000,1.361],[1451520000000,1.357],[1483142400000,1.6],[1514678400000,1.7],[1546214400000,1.7],[1577750400000,1.7]],\"name\":\"Value\",\"yAxis\":0}],\"yAxis\":[{}],\"chart\":{\"renderTo\":\"chart_idztOToNzl\",\"type\":\"column\"},\"xAxis\":{\"type\":\"datetime\",\"title\":{\"text\":\"Date\"}},\"legend\":{\"enabled\":true}});</script>"
       ],
       "metadata": {},
       "output_type": "display_data",
       "text": [
        "<IPython.core.display.HTML at 0x10761d110>"
       ]
      }
     ],
     "prompt_number": 4
    },
    {
     "cell_type": "code",
     "collapsed": false,
     "input": [
      "display_charts(df, kind=\"barh\", title=\"Germany inflation rate\")"
     ],
     "language": "python",
     "metadata": {},
     "outputs": [
      {
       "html": [
        "<div id=\"chart_idXKggCOyw\"</div>\n",
        "    <script type=\"text/javascript\">new Highcharts.Chart({\"title\":{\"text\":\"Germany inflation rate\"},\"series\":[{\"data\":[[347068800000,5.447],[378604800000,6.324],[410140800000,5.256],[441676800000,3.284],[473299200000,2.396],[504835200000,2.084],[536371200000,-0.125],[567907200000,0.242],[599529600000,1.274],[631065600000,2.778],[662601600000,2.687],[694137600000,3.474],[725760000000,5.046],[757296000000,4.476],[788832000000,2.717],[820368000000,1.733],[851990400000,1.19],[883526400000,1.542],[915062400000,0.593],[946598400000,0.626],[978220800000,1.418],[1009756800000,1.904],[1041292800000,1.346],[1072828800000,1.022],[1104451200000,1.799],[1135987200000,1.92],[1167523200000,1.784],[1199059200000,2.285],[1230681600000,2.738],[1262217600000,0.226],[1293753600000,1.158],[1325289600000,2.498],[1356912000000,2.13],[1388448000000,1.601],[1419984000000,1.361],[1451520000000,1.357],[1483142400000,1.6],[1514678400000,1.7],[1546214400000,1.7],[1577750400000,1.7]],\"name\":\"Value\",\"yAxis\":0}],\"yAxis\":[{}],\"chart\":{\"renderTo\":\"chart_idXKggCOyw\",\"type\":\"bar\"},\"xAxis\":{\"type\":\"datetime\",\"title\":{\"text\":\"Date\"}},\"legend\":{\"enabled\":true}});</script>"
       ],
       "metadata": {},
       "output_type": "display_data",
       "text": [
        "<IPython.core.display.HTML at 0x10761d050>"
       ]
      }
     ],
     "prompt_number": 5
    },
    {
     "cell_type": "code",
     "collapsed": false,
     "input": [
      "display_charts(df, title=\"Germany inflation rate\", legend=None, kind=\"bar\", figsize = (400, 200))"
     ],
     "language": "python",
     "metadata": {},
     "outputs": [
      {
       "html": [
        "<div id=\"chart_idNiTrNrrO\"</div>\n",
        "    <script type=\"text/javascript\">new Highcharts.Chart({\"title\":{\"text\":\"Germany inflation rate\"},\"series\":[{\"data\":[[347068800000,5.447],[378604800000,6.324],[410140800000,5.256],[441676800000,3.284],[473299200000,2.396],[504835200000,2.084],[536371200000,-0.125],[567907200000,0.242],[599529600000,1.274],[631065600000,2.778],[662601600000,2.687],[694137600000,3.474],[725760000000,5.046],[757296000000,4.476],[788832000000,2.717],[820368000000,1.733],[851990400000,1.19],[883526400000,1.542],[915062400000,0.593],[946598400000,0.626],[978220800000,1.418],[1009756800000,1.904],[1041292800000,1.346],[1072828800000,1.022],[1104451200000,1.799],[1135987200000,1.92],[1167523200000,1.784],[1199059200000,2.285],[1230681600000,2.738],[1262217600000,0.226],[1293753600000,1.158],[1325289600000,2.498],[1356912000000,2.13],[1388448000000,1.601],[1419984000000,1.361],[1451520000000,1.357],[1483142400000,1.6],[1514678400000,1.7],[1546214400000,1.7],[1577750400000,1.7]],\"name\":\"Value\",\"yAxis\":0}],\"yAxis\":[{}],\"chart\":{\"width\":400,\"renderTo\":\"chart_idNiTrNrrO\",\"type\":\"column\",\"height\":200},\"xAxis\":{\"type\":\"datetime\",\"title\":{\"text\":\"Date\"}},\"legend\":{\"enabled\":null}});</script>"
       ],
       "metadata": {},
       "output_type": "display_data",
       "text": [
        "<IPython.core.display.HTML at 0x10761d850>"
       ]
      }
     ],
     "prompt_number": 6
    },
    {
     "cell_type": "code",
     "collapsed": false,
     "input": [
      "display_charts(df, title=\"Germany inflation rate\", kind=\"bar\", render_to=\"chart5\", zoom=\"xy\")"
     ],
     "language": "python",
     "metadata": {},
     "outputs": [
      {
       "html": [
        "<div id=\"chart5\"</div>\n",
        "    <script type=\"text/javascript\">new Highcharts.Chart({\"title\":{\"text\":\"Germany inflation rate\"},\"series\":[{\"data\":[[347068800000,5.447],[378604800000,6.324],[410140800000,5.256],[441676800000,3.284],[473299200000,2.396],[504835200000,2.084],[536371200000,-0.125],[567907200000,0.242],[599529600000,1.274],[631065600000,2.778],[662601600000,2.687],[694137600000,3.474],[725760000000,5.046],[757296000000,4.476],[788832000000,2.717],[820368000000,1.733],[851990400000,1.19],[883526400000,1.542],[915062400000,0.593],[946598400000,0.626],[978220800000,1.418],[1009756800000,1.904],[1041292800000,1.346],[1072828800000,1.022],[1104451200000,1.799],[1135987200000,1.92],[1167523200000,1.784],[1199059200000,2.285],[1230681600000,2.738],[1262217600000,0.226],[1293753600000,1.158],[1325289600000,2.498],[1356912000000,2.13],[1388448000000,1.601],[1419984000000,1.361],[1451520000000,1.357],[1483142400000,1.6],[1514678400000,1.7],[1546214400000,1.7],[1577750400000,1.7]],\"name\":\"Value\",\"yAxis\":0}],\"yAxis\":[{}],\"chart\":{\"zoomType\":\"xy\",\"renderTo\":\"chart5\",\"type\":\"column\"},\"xAxis\":{\"type\":\"datetime\",\"title\":{\"text\":\"Date\"}},\"legend\":{\"enabled\":true}});</script>"
       ],
       "metadata": {},
       "output_type": "display_data",
       "text": [
        "<IPython.core.display.HTML at 0x10761d610>"
       ]
      }
     ],
     "prompt_number": 7
    },
    {
     "cell_type": "code",
     "collapsed": false,
     "input": [
      "df = pd.DataFrame([\n",
      "    {\"a\": 1, \"b\": 2, \"c\": 3, \"t\": datetime.datetime(2015, 1, 1, 0)},\n",
      "    {\"a\": 2, \"b\": 4, \"c\": 6, \"t\": datetime.datetime(2015, 1, 1, 1)}\n",
      "])\n",
      "display_charts(df, x=\"t\", y=[\"a\", \"c\"], kind=\"bar\")"
     ],
     "language": "python",
     "metadata": {},
     "outputs": [
      {
       "html": [
        "<div id=\"chart_idTDWvsRcd\"</div>\n",
        "    <script type=\"text/javascript\">new Highcharts.Chart({\"series\":[{\"data\":[[1420070400000,1],[1420074000000,2]],\"name\":\"a\",\"yAxis\":0},{\"data\":[[1420070400000,3],[1420074000000,6]],\"name\":\"c\",\"yAxis\":0}],\"yAxis\":[{}],\"chart\":{\"renderTo\":\"chart_idTDWvsRcd\",\"type\":\"column\"},\"xAxis\":{\"type\":\"datetime\",\"title\":{\"text\":\"t\"}},\"legend\":{\"enabled\":true}});</script>"
       ],
       "metadata": {},
       "output_type": "display_data",
       "text": [
        "<IPython.core.display.HTML at 0x10761f290>"
       ]
      }
     ],
     "prompt_number": 8
    },
    {
     "cell_type": "markdown",
     "metadata": {},
     "source": [
      "## Get Serialized Data an Plot with the IPython Display Feature"
     ]
    },
    {
     "cell_type": "code",
     "collapsed": false,
     "input": [
      "data = serialize(df, render_to=\"chart1\", kind=\"barh\", output_type=\"json\")"
     ],
     "language": "python",
     "metadata": {},
     "outputs": [],
     "prompt_number": 9
    },
    {
     "cell_type": "code",
     "collapsed": false,
     "input": [
      "data.keys()"
     ],
     "language": "python",
     "metadata": {},
     "outputs": [
      {
       "metadata": {},
       "output_type": "pyout",
       "prompt_number": 10,
       "text": [
        "['series', 'yAxis', 'chart', 'xAxis', 'legend']"
       ]
      }
     ],
     "prompt_number": 10
    },
    {
     "cell_type": "code",
     "collapsed": false,
     "input": [
      "data"
     ],
     "language": "python",
     "metadata": {},
     "outputs": [
      {
       "metadata": {},
       "output_type": "pyout",
       "prompt_number": 11,
       "text": [
        "{'chart': {'renderTo': 'chart1', 'type': 'bar'},\n",
        " 'legend': {'enabled': True},\n",
        " 'series': [{'data': [(0, 1), (1, 2)], 'name': 'a', 'yAxis': 0},\n",
        "  {'data': [(0, 3), (1, 6)], 'name': 'c', 'yAxis': 0},\n",
        "  {'data': [(0, 2), (1, 4)], 'name': 'b', 'yAxis': 0}],\n",
        " 'xAxis': {},\n",
        " 'yAxis': [{}]}"
       ]
      }
     ],
     "prompt_number": 11
    },
    {
     "cell_type": "code",
     "collapsed": false,
     "input": [
      "js_data = serialize(df, render_to=\"chart1\", kind=\"barh\")"
     ],
     "language": "python",
     "metadata": {},
     "outputs": [],
     "prompt_number": 12
    },
    {
     "cell_type": "markdown",
     "metadata": {},
     "source": [
      "Use the display HTML IPython feature."
     ]
    },
    {
     "cell_type": "code",
     "collapsed": false,
     "input": [
      "display(HTML(\"\"\"\n",
      "<div id=\"chart1\"></div>\n",
      "<script type=\"text/javascript\">%(js_data)s</script>\n",
      "\"\"\" % locals()))"
     ],
     "language": "python",
     "metadata": {},
     "outputs": [
      {
       "html": [
        "\n",
        "<div id=\"chart1\"></div>\n",
        "<script type=\"text/javascript\">new Highcharts.Chart({\"series\":[{\"data\":[[0,1],[1,2]],\"name\":\"a\",\"yAxis\":0},{\"data\":[[0,3],[1,6]],\"name\":\"c\",\"yAxis\":0},{\"data\":[[0,2],[1,4]],\"name\":\"b\",\"yAxis\":0}],\"yAxis\":[{}],\"chart\":{\"renderTo\":\"chart1\",\"type\":\"bar\"},\"xAxis\":{},\"legend\":{\"enabled\":true}});</script>\n"
       ],
       "metadata": {},
       "output_type": "display_data",
       "text": [
        "<IPython.core.display.HTML at 0x10a2118d0>"
       ]
      }
     ],
     "prompt_number": 13
    }
   ],
   "metadata": {}
  }
 ]
}
{
 "cells": [
  {
   "cell_type": "markdown",
   "metadata": {},
   "source": [
    "# Pandas Highcharts Example"
   ]
  },
  {
   "cell_type": "markdown",
   "metadata": {},
   "source": [
    "* Use [Highcharts](http://highcharts.com) to plot [pandas](http://pandas.pydata.org) DataFrame\n",
    "* Code on Github at [pandas-highcharts](https://github.com/gtnx/pandas-highcharts)"
   ]
  },
  {
   "cell_type": "markdown",
   "metadata": {},
   "source": [
    "## Import"
   ]
  },
  {
   "cell_type": "code",
   "execution_count": 52,
   "metadata": {
    "collapsed": false
   },
   "outputs": [
    {
     "name": "stdout",
     "output_type": "stream",
     "text": [
      "The autoreload extension is already loaded. To reload it, use:\n",
      "  %reload_ext autoreload\n"
     ]
    }
   ],
   "source": [
    "%load_ext autoreload\n",
    "%autoreload 2\n",
    "\n",
    "import pandas as pd\n",
    "import datetime\n",
    "import os\n",
    "import numpy as np\n",
    "from urllib2 import urlopen\n",
    "from IPython.display import display, display_pretty, Javascript, HTML\n",
    "from pandas_highcharts.core import serialize\n",
    "from pandas_highcharts.display import display_charts\n",
    "import matplotlib.pyplot as plt\n",
    "\n",
    "# Data retrieved from http://www.quandl.com/api/v1/datasets/ODA/DEU_PCPIPCH.csv?column=1\n",
    "fp = open('pandas_highcharts/data/DEU_PCPIPCH.csv')\n",
    "df = pd.read_csv(fp, index_col=0, parse_dates=True)"
   ]
  },
  {
   "cell_type": "markdown",
   "metadata": {},
   "source": [
    "## Basic examples"
   ]
  },
  {
   "cell_type": "code",
   "execution_count": 26,
   "metadata": {
    "collapsed": false
   },
   "outputs": [
    {
     "data": {
      "text/html": [
       "<div id=\"chart_idCZzEQltL\"</div>\n",
       "    <script type=\"text/javascript\">new Highcharts.Chart({\"title\":{\"text\":\"Germany inflation rate\"},\"series\":[{\"data\":[[347068800000,5.447],[378604800000,6.324],[410140800000,5.256],[441676800000,3.284],[473299200000,2.396],[504835200000,2.084],[536371200000,-0.125],[567907200000,0.242],[599529600000,1.274],[631065600000,2.778],[662601600000,2.687],[694137600000,3.474],[725760000000,5.046],[757296000000,4.476],[788832000000,2.717],[820368000000,1.733],[851990400000,1.19],[883526400000,1.542],[915062400000,0.593],[946598400000,0.626],[978220800000,1.418],[1009756800000,1.904],[1041292800000,1.346],[1072828800000,1.022],[1104451200000,1.799],[1135987200000,1.92],[1167523200000,1.784],[1199059200000,2.285],[1230681600000,2.738],[1262217600000,0.226],[1293753600000,1.158],[1325289600000,2.498],[1356912000000,2.13],[1388448000000,1.601],[1419984000000,0.896],[1451520000000,1.247],[1483142400000,1.5],[1514678400000,1.7],[1546214400000,1.7],[1577750400000,1.7]],\"name\":\"Value\",\"yAxis\":0}],\"yAxis\":[{}],\"chart\":{\"renderTo\":\"chart_idCZzEQltL\"},\"xAxis\":{\"type\":\"datetime\",\"title\":{\"text\":\"Date\"}},\"legend\":{\"enabled\":true}});</script>"
      ],
      "text/plain": [
       "<IPython.core.display.HTML object>"
      ]
     },
     "metadata": {},
     "output_type": "display_data"
    }
   ],
   "source": [
    "display_charts(df, title=\"Germany inflation rate\")"
   ]
  },
  {
   "cell_type": "code",
   "execution_count": 27,
   "metadata": {
    "collapsed": false
   },
   "outputs": [
    {
     "data": {
      "text/html": [
       "<div id=\"chart_idVzbwHqRE\"</div>\n",
       "    <script type=\"text/javascript\">new Highcharts.StockChart({\"title\":{\"text\":\"Germany inflation rate\"},\"series\":[{\"data\":[[347068800000,5.447],[378604800000,6.324],[410140800000,5.256],[441676800000,3.284],[473299200000,2.396],[504835200000,2.084],[536371200000,-0.125],[567907200000,0.242],[599529600000,1.274],[631065600000,2.778],[662601600000,2.687],[694137600000,3.474],[725760000000,5.046],[757296000000,4.476],[788832000000,2.717],[820368000000,1.733],[851990400000,1.19],[883526400000,1.542],[915062400000,0.593],[946598400000,0.626],[978220800000,1.418],[1009756800000,1.904],[1041292800000,1.346],[1072828800000,1.022],[1104451200000,1.799],[1135987200000,1.92],[1167523200000,1.784],[1199059200000,2.285],[1230681600000,2.738],[1262217600000,0.226],[1293753600000,1.158],[1325289600000,2.498],[1356912000000,2.13],[1388448000000,1.601],[1419984000000,0.896],[1451520000000,1.247],[1483142400000,1.5],[1514678400000,1.7],[1546214400000,1.7],[1577750400000,1.7]],\"name\":\"Value\",\"yAxis\":0}],\"yAxis\":[{}],\"chart\":{\"renderTo\":\"chart_idVzbwHqRE\"},\"xAxis\":{\"type\":\"datetime\",\"title\":{\"text\":\"Date\"}},\"legend\":{\"enabled\":true}});</script>"
      ],
      "text/plain": [
       "<IPython.core.display.HTML object>"
      ]
     },
     "metadata": {},
     "output_type": "display_data"
    }
   ],
   "source": [
    "display_charts(df, chart_type=\"stock\", title=\"Germany inflation rate\")"
   ]
  },
  {
   "cell_type": "code",
   "execution_count": 28,
   "metadata": {
    "collapsed": false
   },
   "outputs": [
    {
     "data": {
      "text/html": [
       "<div id=\"chart_idrfGXMaoy\"</div>\n",
       "    <script type=\"text/javascript\">new Highcharts.Chart({\"title\":{\"text\":\"Germany inflation rate\"},\"series\":[{\"data\":[[347068800000,5.447],[378604800000,6.324],[410140800000,5.256],[441676800000,3.284],[473299200000,2.396],[504835200000,2.084],[536371200000,-0.125],[567907200000,0.242],[599529600000,1.274],[631065600000,2.778],[662601600000,2.687],[694137600000,3.474],[725760000000,5.046],[757296000000,4.476],[788832000000,2.717],[820368000000,1.733],[851990400000,1.19],[883526400000,1.542],[915062400000,0.593],[946598400000,0.626],[978220800000,1.418],[1009756800000,1.904],[1041292800000,1.346],[1072828800000,1.022],[1104451200000,1.799],[1135987200000,1.92],[1167523200000,1.784],[1199059200000,2.285],[1230681600000,2.738],[1262217600000,0.226],[1293753600000,1.158],[1325289600000,2.498],[1356912000000,2.13],[1388448000000,1.601],[1419984000000,0.896],[1451520000000,1.247],[1483142400000,1.5],[1514678400000,1.7],[1546214400000,1.7],[1577750400000,1.7]],\"name\":\"Value\",\"yAxis\":0}],\"yAxis\":[{}],\"chart\":{\"renderTo\":\"chart_idrfGXMaoy\",\"type\":\"column\"},\"xAxis\":{\"type\":\"datetime\",\"title\":{\"text\":\"Date\"}},\"legend\":{\"enabled\":true}});</script>"
      ],
      "text/plain": [
       "<IPython.core.display.HTML object>"
      ]
     },
     "metadata": {},
     "output_type": "display_data"
    }
   ],
   "source": [
    "display_charts(df, kind=\"bar\", title=\"Germany inflation rate\")"
   ]
  },
  {
   "cell_type": "code",
   "execution_count": 29,
   "metadata": {
    "collapsed": false
   },
   "outputs": [
    {
     "data": {
      "text/html": [
       "<div id=\"chart_idijLKlmAe\"</div>\n",
       "    <script type=\"text/javascript\">new Highcharts.Chart({\"title\":{\"text\":\"Germany inflation rate\"},\"series\":[{\"data\":[[347068800000,5.447],[378604800000,6.324],[410140800000,5.256],[441676800000,3.284],[473299200000,2.396],[504835200000,2.084],[536371200000,-0.125],[567907200000,0.242],[599529600000,1.274],[631065600000,2.778],[662601600000,2.687],[694137600000,3.474],[725760000000,5.046],[757296000000,4.476],[788832000000,2.717],[820368000000,1.733],[851990400000,1.19],[883526400000,1.542],[915062400000,0.593],[946598400000,0.626],[978220800000,1.418],[1009756800000,1.904],[1041292800000,1.346],[1072828800000,1.022],[1104451200000,1.799],[1135987200000,1.92],[1167523200000,1.784],[1199059200000,2.285],[1230681600000,2.738],[1262217600000,0.226],[1293753600000,1.158],[1325289600000,2.498],[1356912000000,2.13],[1388448000000,1.601],[1419984000000,0.896],[1451520000000,1.247],[1483142400000,1.5],[1514678400000,1.7],[1546214400000,1.7],[1577750400000,1.7]],\"name\":\"Value\",\"yAxis\":0}],\"yAxis\":[{}],\"chart\":{\"renderTo\":\"chart_idijLKlmAe\",\"type\":\"bar\"},\"xAxis\":{\"type\":\"datetime\",\"title\":{\"text\":\"Date\"}},\"legend\":{\"enabled\":true}});</script>"
      ],
      "text/plain": [
       "<IPython.core.display.HTML object>"
      ]
     },
     "metadata": {},
     "output_type": "display_data"
    }
   ],
   "source": [
    "display_charts(df, kind=\"barh\", title=\"Germany inflation rate\")"
   ]
  },
  {
   "cell_type": "code",
   "execution_count": 30,
   "metadata": {
    "collapsed": false
   },
   "outputs": [
    {
     "data": {
      "text/html": [
       "<div id=\"chart_idknwHMTQc\"</div>\n",
       "    <script type=\"text/javascript\">new Highcharts.Chart({\"title\":{\"text\":\"Germany inflation rate\"},\"series\":[{\"data\":[[347068800000,5.447],[378604800000,6.324],[410140800000,5.256],[441676800000,3.284],[473299200000,2.396],[504835200000,2.084],[536371200000,-0.125],[567907200000,0.242],[599529600000,1.274],[631065600000,2.778],[662601600000,2.687],[694137600000,3.474],[725760000000,5.046],[757296000000,4.476],[788832000000,2.717],[820368000000,1.733],[851990400000,1.19],[883526400000,1.542],[915062400000,0.593],[946598400000,0.626],[978220800000,1.418],[1009756800000,1.904],[1041292800000,1.346],[1072828800000,1.022],[1104451200000,1.799],[1135987200000,1.92],[1167523200000,1.784],[1199059200000,2.285],[1230681600000,2.738],[1262217600000,0.226],[1293753600000,1.158],[1325289600000,2.498],[1356912000000,2.13],[1388448000000,1.601],[1419984000000,0.896],[1451520000000,1.247],[1483142400000,1.5],[1514678400000,1.7],[1546214400000,1.7],[1577750400000,1.7]],\"name\":\"Value\",\"yAxis\":0}],\"yAxis\":[{}],\"chart\":{\"width\":400,\"renderTo\":\"chart_idknwHMTQc\",\"type\":\"column\",\"height\":200},\"xAxis\":{\"type\":\"datetime\",\"title\":{\"text\":\"Date\"}},\"legend\":{\"enabled\":null}});</script>"
      ],
      "text/plain": [
       "<IPython.core.display.HTML object>"
      ]
     },
     "metadata": {},
     "output_type": "display_data"
    }
   ],
   "source": [
    "display_charts(df, title=\"Germany inflation rate\", legend=None, kind=\"bar\", figsize = (400, 200))"
   ]
  },
  {
   "cell_type": "code",
   "execution_count": 31,
   "metadata": {
    "collapsed": false
   },
   "outputs": [
    {
     "data": {
      "text/html": [
       "<div id=\"chart5\"</div>\n",
       "    <script type=\"text/javascript\">new Highcharts.Chart({\"title\":{\"text\":\"Germany inflation rate\"},\"series\":[{\"data\":[[347068800000,5.447],[378604800000,6.324],[410140800000,5.256],[441676800000,3.284],[473299200000,2.396],[504835200000,2.084],[536371200000,-0.125],[567907200000,0.242],[599529600000,1.274],[631065600000,2.778],[662601600000,2.687],[694137600000,3.474],[725760000000,5.046],[757296000000,4.476],[788832000000,2.717],[820368000000,1.733],[851990400000,1.19],[883526400000,1.542],[915062400000,0.593],[946598400000,0.626],[978220800000,1.418],[1009756800000,1.904],[1041292800000,1.346],[1072828800000,1.022],[1104451200000,1.799],[1135987200000,1.92],[1167523200000,1.784],[1199059200000,2.285],[1230681600000,2.738],[1262217600000,0.226],[1293753600000,1.158],[1325289600000,2.498],[1356912000000,2.13],[1388448000000,1.601],[1419984000000,0.896],[1451520000000,1.247],[1483142400000,1.5],[1514678400000,1.7],[1546214400000,1.7],[1577750400000,1.7]],\"name\":\"Value\",\"yAxis\":0}],\"yAxis\":[{}],\"chart\":{\"zoomType\":\"xy\",\"renderTo\":\"chart5\",\"type\":\"column\"},\"xAxis\":{\"type\":\"datetime\",\"title\":{\"text\":\"Date\"}},\"legend\":{\"enabled\":true}});</script>"
      ],
      "text/plain": [
       "<IPython.core.display.HTML object>"
      ]
     },
     "metadata": {},
     "output_type": "display_data"
    }
   ],
   "source": [
    "display_charts(df, title=\"Germany inflation rate\", kind=\"bar\", render_to=\"chart5\", zoom=\"xy\")"
   ]
  },
  {
   "cell_type": "code",
   "execution_count": 32,
   "metadata": {
    "collapsed": false
   },
   "outputs": [],
   "source": [
    "# Data retrieved from https://www.quandl.com/api/v1/datasets/CVR/ANGEL_SECTORS.csv\n",
    "fp = open('pandas_highcharts/data/ANGEL_SECTORS.csv')\n",
    "df3 = pd.read_csv(fp, index_col=0, parse_dates=True)\n",
    "df3 = df3.fillna(0) / 100\n",
    "df4 = pd.DataFrame(df3.mean(), columns=['ratio'])\n",
    "df4['total'] = 1"
   ]
  },
  {
   "cell_type": "code",
   "execution_count": 33,
   "metadata": {
    "collapsed": false
   },
   "outputs": [
    {
     "data": {
      "text/html": [
       "<div id=\"chart_iddaaDGutF\"</div>\n",
       "    <script type=\"text/javascript\">new Highcharts.Chart({\"title\":{\"text\":\"Angel Deals By Sector\"},\"series\":[{\"data\":[[\"Biotech\",0.1141666667],[\"Financial Products and Services\",0.0216666667],[\"Hardware\",0.0291666667],[\"Healthcare\",0.1775],[\"IT Services\",0.0216666667],[\"Industrial\\/Energy\",0.0608333333],[\"Manufacturing\",0.01],[\"Media\",0.0383333333],[\"Retail\",0.055],[\"Software\",0.2233333333],[\"Telecom\",0.0133333333]],\"name\":\"ratio\",\"yAxis\":0}],\"yAxis\":[{}],\"chart\":{\"renderTo\":\"chart_iddaaDGutF\",\"type\":\"pie\"},\"tooltip\":{\"pointFormat\":\"{series.name}: <b>{point.percentage:.1f}%<\\/b>\"},\"xAxis\":{\"categories\":[\"Biotech\",\"Financial Products and Services\",\"Hardware\",\"Healthcare\",\"IT Services\",\"Industrial\\/Energy\",\"Manufacturing\",\"Media\",\"Retail\",\"Software\",\"Telecom\"]},\"legend\":{\"enabled\":true}});</script>"
      ],
      "text/plain": [
       "<IPython.core.display.HTML object>"
      ]
     },
     "metadata": {},
     "output_type": "display_data"
    }
   ],
   "source": [
    "display_charts(df4, kind='pie', y=['ratio'], title='Angel Deals By Sector', tooltip={'pointFormat': '{series.name}: <b>{point.percentage:.1f}%</b>'})"
   ]
  },
  {
   "cell_type": "markdown",
   "metadata": {},
   "source": [
    "## Highcharts specific"
   ]
  },
  {
   "cell_type": "code",
   "execution_count": 43,
   "metadata": {
    "collapsed": false
   },
   "outputs": [
    {
     "data": {
      "text/html": [
       "<div id=\"chart_idgxJyCFDk\"</div>\n",
       "    <script type=\"text/javascript\">new Highcharts.Chart({\"title\":{\"text\":\"Angel Deals By Sector\"},\"series\":[{\"data\":[1.37,0.26,0.35,2.13,0.26,0.73,0.12,0.46,0.66,2.68,0.16],\"name\":\"sum\",\"yAxis\":0}],\"yAxis\":[{\"max\":2.3,\"min\":0}],\"chart\":{\"polar\":true,\"renderTo\":\"chart_idgxJyCFDk\",\"type\":\"column\"},\"xAxis\":{\"categories\":[\"Biotech\",\"Financial Products and Services\",\"Hardware\",\"Healthcare\",\"IT Services\",\"Industrial\\/Energy\",\"Manufacturing\",\"Media\",\"Retail\",\"Software\",\"Telecom\"]},\"legend\":{\"enabled\":true}});</script>"
      ],
      "text/plain": [
       "<IPython.core.display.HTML object>"
      ]
     },
     "metadata": {},
     "output_type": "display_data"
    }
   ],
   "source": [
    "df4 = pd.DataFrame(df3.sum(), columns=['sum'])\n",
    "display_charts(df4, polar=True, kind='bar', ylim=(0, 2.3), title='Angel Deals By Sector')"
   ]
  }
 ],
 "metadata": {
  "kernelspec": {
   "display_name": "Python 2",
   "language": "python",
   "name": "python2"
  },
  "language_info": {
   "codemirror_mode": {
    "name": "ipython",
    "version": 2
   },
   "file_extension": ".py",
   "mimetype": "text/x-python",
   "name": "python",
   "nbconvert_exporter": "python",
   "pygments_lexer": "ipython2",
   "version": "2.7.6"
  }
 },
 "nbformat": 4,
 "nbformat_minor": 0
}

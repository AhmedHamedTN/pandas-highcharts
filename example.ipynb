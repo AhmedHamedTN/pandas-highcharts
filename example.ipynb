{
 "cells": [
  {
   "cell_type": "markdown",
   "metadata": {},
   "source": [
    "# Pandas Highcharts Example"
   ]
  },
  {
   "cell_type": "markdown",
   "metadata": {},
   "source": [
    "* Use [Highcharts](http://highcharts.com) to plot [pandas](http://pandas.pydata.org) DataFrame\n",
    "* Code on Github at [pandas-highcharts](https://github.com/gtnx/pandas-highcharts)"
   ]
  },
  {
   "cell_type": "markdown",
   "metadata": {},
   "source": [
    "## Import"
   ]
  },
  {
   "cell_type": "code",
   "execution_count": 31,
   "metadata": {
    "collapsed": false
   },
   "outputs": [
    {
     "name": "stdout",
     "output_type": "stream",
     "text": [
      "The autoreload extension is already loaded. To reload it, use:\n",
      "  %reload_ext autoreload\n"
     ]
    }
   ],
   "source": [
    "%load_ext autoreload\n",
    "%autoreload 2\n",
    "\n",
    "import pandas as pd\n",
    "import datetime\n",
    "from urllib2 import urlopen\n",
    "from IPython.display import display, display_pretty, Javascript, HTML\n",
    "from pandas_highcharts.core import serialize\n",
    "from pandas_highcharts.display import display_charts\n",
    "\n",
    "df = pd.read_csv(\n",
    "    urlopen('http://www.quandl.com/api/v1/datasets/ODA/DEU_PCPIPCH.csv?column=1'),\n",
    "    index_col=0, parse_dates=True\n",
    ")"
   ]
  },
  {
   "cell_type": "markdown",
   "metadata": {},
   "source": [
    "## Use the display_charts function"
   ]
  },
  {
   "cell_type": "code",
   "execution_count": 32,
   "metadata": {
    "collapsed": false
   },
   "outputs": [
    {
     "data": {
      "text/html": [
       "<div id=\"chart_ideMIbTvhJ\"</div>\n",
       "    <script type=\"text/javascript\">new Highcharts.Chart({\"title\":{\"text\":\"Germany inflation rate\"},\"series\":[{\"data\":[[347068800000,5.447],[378604800000,6.324],[410140800000,5.256],[441676800000,3.284],[473299200000,2.396],[504835200000,2.084],[536371200000,-0.125],[567907200000,0.242],[599529600000,1.274],[631065600000,2.778],[662601600000,2.687],[694137600000,3.474],[725760000000,5.046],[757296000000,4.476],[788832000000,2.717],[820368000000,1.733],[851990400000,1.19],[883526400000,1.542],[915062400000,0.593],[946598400000,0.626],[978220800000,1.418],[1009756800000,1.904],[1041292800000,1.346],[1072828800000,1.022],[1104451200000,1.799],[1135987200000,1.92],[1167523200000,1.784],[1199059200000,2.285],[1230681600000,2.738],[1262217600000,0.226],[1293753600000,1.158],[1325289600000,2.498],[1356912000000,2.13],[1388448000000,1.601],[1419984000000,0.896],[1451520000000,1.247],[1483142400000,1.5],[1514678400000,1.7],[1546214400000,1.7],[1577750400000,1.7]],\"name\":\"Value\",\"yAxis\":0}],\"yAxis\":[{}],\"chart\":{\"renderTo\":\"chart_ideMIbTvhJ\"},\"xAxis\":{\"type\":\"datetime\",\"title\":{\"text\":\"Date\"}},\"legend\":{\"enabled\":true}});</script>"
      ],
      "text/plain": [
       "<IPython.core.display.HTML object>"
      ]
     },
     "metadata": {},
     "output_type": "display_data"
    }
   ],
   "source": [
    "display_charts(df, title=\"Germany inflation rate\")"
   ]
  },
  {
   "cell_type": "code",
   "execution_count": 33,
   "metadata": {
    "collapsed": false
   },
   "outputs": [
    {
     "data": {
      "text/html": [
       "<div id=\"chart_idqVfkkCCx\"</div>\n",
       "    <script type=\"text/javascript\">new Highcharts.StockChart({\"title\":{\"text\":\"Germany inflation rate\"},\"series\":[{\"data\":[[347068800000,5.447],[378604800000,6.324],[410140800000,5.256],[441676800000,3.284],[473299200000,2.396],[504835200000,2.084],[536371200000,-0.125],[567907200000,0.242],[599529600000,1.274],[631065600000,2.778],[662601600000,2.687],[694137600000,3.474],[725760000000,5.046],[757296000000,4.476],[788832000000,2.717],[820368000000,1.733],[851990400000,1.19],[883526400000,1.542],[915062400000,0.593],[946598400000,0.626],[978220800000,1.418],[1009756800000,1.904],[1041292800000,1.346],[1072828800000,1.022],[1104451200000,1.799],[1135987200000,1.92],[1167523200000,1.784],[1199059200000,2.285],[1230681600000,2.738],[1262217600000,0.226],[1293753600000,1.158],[1325289600000,2.498],[1356912000000,2.13],[1388448000000,1.601],[1419984000000,0.896],[1451520000000,1.247],[1483142400000,1.5],[1514678400000,1.7],[1546214400000,1.7],[1577750400000,1.7]],\"name\":\"Value\",\"yAxis\":0}],\"yAxis\":[{}],\"chart\":{\"renderTo\":\"chart_idqVfkkCCx\"},\"xAxis\":{\"type\":\"datetime\",\"title\":{\"text\":\"Date\"}},\"legend\":{\"enabled\":true}});</script>"
      ],
      "text/plain": [
       "<IPython.core.display.HTML object>"
      ]
     },
     "metadata": {},
     "output_type": "display_data"
    }
   ],
   "source": [
    "display_charts(df, chart_type=\"stock\", title=\"Germany inflation rate\")"
   ]
  },
  {
   "cell_type": "code",
   "execution_count": 34,
   "metadata": {
    "collapsed": false
   },
   "outputs": [
    {
     "data": {
      "text/html": [
       "<div id=\"chart_idrcJbjTRZ\"</div>\n",
       "    <script type=\"text/javascript\">new Highcharts.Chart({\"title\":{\"text\":\"Germany inflation rate\"},\"series\":[{\"data\":[[347068800000,5.447],[378604800000,6.324],[410140800000,5.256],[441676800000,3.284],[473299200000,2.396],[504835200000,2.084],[536371200000,-0.125],[567907200000,0.242],[599529600000,1.274],[631065600000,2.778],[662601600000,2.687],[694137600000,3.474],[725760000000,5.046],[757296000000,4.476],[788832000000,2.717],[820368000000,1.733],[851990400000,1.19],[883526400000,1.542],[915062400000,0.593],[946598400000,0.626],[978220800000,1.418],[1009756800000,1.904],[1041292800000,1.346],[1072828800000,1.022],[1104451200000,1.799],[1135987200000,1.92],[1167523200000,1.784],[1199059200000,2.285],[1230681600000,2.738],[1262217600000,0.226],[1293753600000,1.158],[1325289600000,2.498],[1356912000000,2.13],[1388448000000,1.601],[1419984000000,0.896],[1451520000000,1.247],[1483142400000,1.5],[1514678400000,1.7],[1546214400000,1.7],[1577750400000,1.7]],\"name\":\"Value\",\"yAxis\":0}],\"yAxis\":[{}],\"chart\":{\"renderTo\":\"chart_idrcJbjTRZ\",\"type\":\"column\"},\"xAxis\":{\"type\":\"datetime\",\"title\":{\"text\":\"Date\"}},\"legend\":{\"enabled\":true}});</script>"
      ],
      "text/plain": [
       "<IPython.core.display.HTML object>"
      ]
     },
     "metadata": {},
     "output_type": "display_data"
    }
   ],
   "source": [
    "display_charts(df, kind=\"bar\", title=\"Germany inflation rate\")"
   ]
  },
  {
   "cell_type": "code",
   "execution_count": 35,
   "metadata": {
    "collapsed": false
   },
   "outputs": [
    {
     "data": {
      "text/html": [
       "<div id=\"chart_idKVMBWllq\"</div>\n",
       "    <script type=\"text/javascript\">new Highcharts.Chart({\"title\":{\"text\":\"Germany inflation rate\"},\"series\":[{\"data\":[[347068800000,5.447],[378604800000,6.324],[410140800000,5.256],[441676800000,3.284],[473299200000,2.396],[504835200000,2.084],[536371200000,-0.125],[567907200000,0.242],[599529600000,1.274],[631065600000,2.778],[662601600000,2.687],[694137600000,3.474],[725760000000,5.046],[757296000000,4.476],[788832000000,2.717],[820368000000,1.733],[851990400000,1.19],[883526400000,1.542],[915062400000,0.593],[946598400000,0.626],[978220800000,1.418],[1009756800000,1.904],[1041292800000,1.346],[1072828800000,1.022],[1104451200000,1.799],[1135987200000,1.92],[1167523200000,1.784],[1199059200000,2.285],[1230681600000,2.738],[1262217600000,0.226],[1293753600000,1.158],[1325289600000,2.498],[1356912000000,2.13],[1388448000000,1.601],[1419984000000,0.896],[1451520000000,1.247],[1483142400000,1.5],[1514678400000,1.7],[1546214400000,1.7],[1577750400000,1.7]],\"name\":\"Value\",\"yAxis\":0}],\"yAxis\":[{}],\"chart\":{\"renderTo\":\"chart_idKVMBWllq\",\"type\":\"bar\"},\"xAxis\":{\"type\":\"datetime\",\"title\":{\"text\":\"Date\"}},\"legend\":{\"enabled\":true}});</script>"
      ],
      "text/plain": [
       "<IPython.core.display.HTML object>"
      ]
     },
     "metadata": {},
     "output_type": "display_data"
    }
   ],
   "source": [
    "display_charts(df, kind=\"barh\", title=\"Germany inflation rate\")"
   ]
  },
  {
   "cell_type": "code",
   "execution_count": 36,
   "metadata": {
    "collapsed": false
   },
   "outputs": [
    {
     "data": {
      "text/html": [
       "<div id=\"chart_idyEdysBgX\"</div>\n",
       "    <script type=\"text/javascript\">new Highcharts.Chart({\"title\":{\"text\":\"Germany inflation rate\"},\"series\":[{\"data\":[[347068800000,5.447],[378604800000,6.324],[410140800000,5.256],[441676800000,3.284],[473299200000,2.396],[504835200000,2.084],[536371200000,-0.125],[567907200000,0.242],[599529600000,1.274],[631065600000,2.778],[662601600000,2.687],[694137600000,3.474],[725760000000,5.046],[757296000000,4.476],[788832000000,2.717],[820368000000,1.733],[851990400000,1.19],[883526400000,1.542],[915062400000,0.593],[946598400000,0.626],[978220800000,1.418],[1009756800000,1.904],[1041292800000,1.346],[1072828800000,1.022],[1104451200000,1.799],[1135987200000,1.92],[1167523200000,1.784],[1199059200000,2.285],[1230681600000,2.738],[1262217600000,0.226],[1293753600000,1.158],[1325289600000,2.498],[1356912000000,2.13],[1388448000000,1.601],[1419984000000,0.896],[1451520000000,1.247],[1483142400000,1.5],[1514678400000,1.7],[1546214400000,1.7],[1577750400000,1.7]],\"name\":\"Value\",\"yAxis\":0}],\"yAxis\":[{}],\"chart\":{\"width\":400,\"renderTo\":\"chart_idyEdysBgX\",\"type\":\"column\",\"height\":200},\"xAxis\":{\"type\":\"datetime\",\"title\":{\"text\":\"Date\"}},\"legend\":{\"enabled\":null}});</script>"
      ],
      "text/plain": [
       "<IPython.core.display.HTML object>"
      ]
     },
     "metadata": {},
     "output_type": "display_data"
    }
   ],
   "source": [
    "display_charts(df, title=\"Germany inflation rate\", legend=None, kind=\"bar\", figsize = (400, 200))"
   ]
  },
  {
   "cell_type": "code",
   "execution_count": 37,
   "metadata": {
    "collapsed": false
   },
   "outputs": [
    {
     "data": {
      "text/html": [
       "<div id=\"chart5\"</div>\n",
       "    <script type=\"text/javascript\">new Highcharts.Chart({\"title\":{\"text\":\"Germany inflation rate\"},\"series\":[{\"data\":[[347068800000,5.447],[378604800000,6.324],[410140800000,5.256],[441676800000,3.284],[473299200000,2.396],[504835200000,2.084],[536371200000,-0.125],[567907200000,0.242],[599529600000,1.274],[631065600000,2.778],[662601600000,2.687],[694137600000,3.474],[725760000000,5.046],[757296000000,4.476],[788832000000,2.717],[820368000000,1.733],[851990400000,1.19],[883526400000,1.542],[915062400000,0.593],[946598400000,0.626],[978220800000,1.418],[1009756800000,1.904],[1041292800000,1.346],[1072828800000,1.022],[1104451200000,1.799],[1135987200000,1.92],[1167523200000,1.784],[1199059200000,2.285],[1230681600000,2.738],[1262217600000,0.226],[1293753600000,1.158],[1325289600000,2.498],[1356912000000,2.13],[1388448000000,1.601],[1419984000000,0.896],[1451520000000,1.247],[1483142400000,1.5],[1514678400000,1.7],[1546214400000,1.7],[1577750400000,1.7]],\"name\":\"Value\",\"yAxis\":0}],\"yAxis\":[{}],\"chart\":{\"zoomType\":\"xy\",\"renderTo\":\"chart5\",\"type\":\"column\"},\"xAxis\":{\"type\":\"datetime\",\"title\":{\"text\":\"Date\"}},\"legend\":{\"enabled\":true}});</script>"
      ],
      "text/plain": [
       "<IPython.core.display.HTML object>"
      ]
     },
     "metadata": {},
     "output_type": "display_data"
    }
   ],
   "source": [
    "display_charts(df, title=\"Germany inflation rate\", kind=\"bar\", render_to=\"chart5\", zoom=\"xy\")"
   ]
  },
  {
   "cell_type": "code",
   "execution_count": 52,
   "metadata": {
    "collapsed": false
   },
   "outputs": [],
   "source": [
    "df3 = pd.read_csv(\n",
    "    urlopen('https://www.quandl.com/api/v1/datasets/CVR/ANGEL_SECTORS.csv'),\n",
    "    index_col=0, parse_dates=True\n",
    ")\n",
    "df3 = df3.fillna(0) / 100\n",
    "df3 = pd.DataFrame(df3.mean(), columns=['ratio'])\n",
    "df3['total'] = 1"
   ]
  },
  {
   "cell_type": "code",
   "execution_count": 56,
   "metadata": {
    "collapsed": false
   },
   "outputs": [
    {
     "data": {
      "text/html": [
       "<div id=\"chart_idqBcGHuAU\"</div>\n",
       "    <script type=\"text/javascript\">new Highcharts.Chart({\"title\":{\"text\":\"Angel Deals By Sector\"},\"series\":[{\"data\":[[\"Biotech\",0.1141666667],[\"Financial Products and Services\",0.0216666667],[\"Hardware\",0.0291666667],[\"Healthcare\",0.1775],[\"IT Services\",0.0216666667],[\"Industrial\\/Energy\",0.0608333333],[\"Manufacturing\",0.01],[\"Media\",0.0383333333],[\"Retail\",0.055],[\"Software\",0.2233333333],[\"Telecom\",0.0133333333]],\"name\":\"ratio\",\"yAxis\":0}],\"yAxis\":[{}],\"chart\":{\"renderTo\":\"chart_idqBcGHuAU\",\"type\":\"pie\"},\"tooltip\":{\"pointFormat\":\"{series.name}: <b>{point.percentage:.1f}%<\\/b>\"},\"xAxis\":{\"type\":\"datetime\"},\"legend\":{\"enabled\":true}});</script>"
      ],
      "text/plain": [
       "<IPython.core.display.HTML object>"
      ]
     },
     "metadata": {},
     "output_type": "display_data"
    }
   ],
   "source": [
    "display_charts(df3, kind='pie', y=['ratio'], title='Angel Deals By Sector', tooltip={'pointFormat': '{series.name}: <b>{point.percentage:.1f}%</b>'})"
   ]
  },
  {
   "cell_type": "code",
   "execution_count": 39,
   "metadata": {
    "collapsed": false
   },
   "outputs": [
    {
     "data": {
      "text/html": [
       "<div id=\"chart_idkvYSRbFQ\"</div>\n",
       "    <script type=\"text/javascript\">new Highcharts.Chart({\"series\":[{\"data\":[[1420070400000,1],[1420074000000,2]],\"name\":\"a\",\"yAxis\":0},{\"data\":[[1420070400000,3],[1420074000000,6]],\"name\":\"c\",\"yAxis\":0}],\"yAxis\":[{}],\"chart\":{\"renderTo\":\"chart_idkvYSRbFQ\",\"type\":\"column\"},\"xAxis\":{\"type\":\"datetime\",\"title\":{\"text\":\"t\"}},\"legend\":{\"enabled\":true}});</script>"
      ],
      "text/plain": [
       "<IPython.core.display.HTML object>"
      ]
     },
     "metadata": {},
     "output_type": "display_data"
    }
   ],
   "source": [
    "df2 = pd.DataFrame([\n",
    "    {\"a\": 1, \"b\": 2, \"c\": 3, \"t\": datetime.datetime(2015, 1, 1, 0)},\n",
    "    {\"a\": 2, \"b\": 4, \"c\": 6, \"t\": datetime.datetime(2015, 1, 1, 1)}\n",
    "])\n",
    "display_charts(df2, x=\"t\", y=[\"a\", \"c\"], kind=\"bar\")"
   ]
  },
  {
   "cell_type": "markdown",
   "metadata": {},
   "source": [
    "## Get Serialized Data an Plot with the IPython Display Feature"
   ]
  },
  {
   "cell_type": "code",
   "execution_count": 40,
   "metadata": {
    "collapsed": false
   },
   "outputs": [],
   "source": [
    "data = serialize(df, render_to=\"chart1\", kind=\"barh\", output_type=\"json\")"
   ]
  },
  {
   "cell_type": "code",
   "execution_count": 41,
   "metadata": {
    "collapsed": false
   },
   "outputs": [
    {
     "data": {
      "text/plain": [
       "['series', 'yAxis', 'chart', 'xAxis', 'legend']"
      ]
     },
     "execution_count": 41,
     "metadata": {},
     "output_type": "execute_result"
    }
   ],
   "source": [
    "data.keys()"
   ]
  },
  {
   "cell_type": "code",
   "execution_count": 42,
   "metadata": {
    "collapsed": false
   },
   "outputs": [
    {
     "data": {
      "text/plain": [
       "{'chart': {'renderTo': 'chart1', 'type': 'bar'},\n",
       " 'legend': {'enabled': True},\n",
       " 'series': [{'data': [(Timestamp('1980-12-31 00:00:00'), 5.4470000000000001),\n",
       "    (Timestamp('1981-12-31 00:00:00'), 6.3239999999999998),\n",
       "    (Timestamp('1982-12-31 00:00:00'), 5.2560000000000002),\n",
       "    (Timestamp('1983-12-31 00:00:00'), 3.2839999999999998),\n",
       "    (Timestamp('1984-12-31 00:00:00'), 2.3959999999999999),\n",
       "    (Timestamp('1985-12-31 00:00:00'), 2.0840000000000001),\n",
       "    (Timestamp('1986-12-31 00:00:00'), -0.125),\n",
       "    (Timestamp('1987-12-31 00:00:00'), 0.24199999999999999),\n",
       "    (Timestamp('1988-12-31 00:00:00'), 1.274),\n",
       "    (Timestamp('1989-12-31 00:00:00'), 2.778),\n",
       "    (Timestamp('1990-12-31 00:00:00'), 2.6869999999999998),\n",
       "    (Timestamp('1991-12-31 00:00:00'), 3.4739999999999998),\n",
       "    (Timestamp('1992-12-31 00:00:00'), 5.0460000000000003),\n",
       "    (Timestamp('1993-12-31 00:00:00'), 4.476),\n",
       "    (Timestamp('1994-12-31 00:00:00'), 2.7170000000000001),\n",
       "    (Timestamp('1995-12-31 00:00:00'), 1.7330000000000001),\n",
       "    (Timestamp('1996-12-31 00:00:00'), 1.1899999999999999),\n",
       "    (Timestamp('1997-12-31 00:00:00'), 1.5419999999999998),\n",
       "    (Timestamp('1998-12-31 00:00:00'), 0.59299999999999997),\n",
       "    (Timestamp('1999-12-31 00:00:00'), 0.626),\n",
       "    (Timestamp('2000-12-31 00:00:00'), 1.4180000000000001),\n",
       "    (Timestamp('2001-12-31 00:00:00'), 1.9040000000000001),\n",
       "    (Timestamp('2002-12-31 00:00:00'), 1.3459999999999999),\n",
       "    (Timestamp('2003-12-31 00:00:00'), 1.022),\n",
       "    (Timestamp('2004-12-31 00:00:00'), 1.7990000000000002),\n",
       "    (Timestamp('2005-12-31 00:00:00'), 1.9199999999999999),\n",
       "    (Timestamp('2006-12-31 00:00:00'), 1.784),\n",
       "    (Timestamp('2007-12-31 00:00:00'), 2.2850000000000001),\n",
       "    (Timestamp('2008-12-31 00:00:00'), 2.738),\n",
       "    (Timestamp('2009-12-31 00:00:00'), 0.22600000000000001),\n",
       "    (Timestamp('2010-12-31 00:00:00'), 1.1579999999999999),\n",
       "    (Timestamp('2011-12-31 00:00:00'), 2.4980000000000002),\n",
       "    (Timestamp('2012-12-31 00:00:00'), 2.1299999999999999),\n",
       "    (Timestamp('2013-12-31 00:00:00'), 1.601),\n",
       "    (Timestamp('2014-12-31 00:00:00'), 0.89599999999999991),\n",
       "    (Timestamp('2015-12-31 00:00:00'), 1.2470000000000001),\n",
       "    (Timestamp('2016-12-31 00:00:00'), 1.5),\n",
       "    (Timestamp('2017-12-31 00:00:00'), 1.7),\n",
       "    (Timestamp('2018-12-31 00:00:00'), 1.7),\n",
       "    (Timestamp('2019-12-31 00:00:00'), 1.7)],\n",
       "   'name': 'Value',\n",
       "   'yAxis': 0}],\n",
       " 'xAxis': {'title': {'text': 'Date'}, 'type': 'datetime'},\n",
       " 'yAxis': [{}]}"
      ]
     },
     "execution_count": 42,
     "metadata": {},
     "output_type": "execute_result"
    }
   ],
   "source": [
    "data"
   ]
  },
  {
   "cell_type": "code",
   "execution_count": 43,
   "metadata": {
    "collapsed": false
   },
   "outputs": [],
   "source": [
    "js_data = serialize(df, render_to=\"chart1\", kind=\"barh\")"
   ]
  },
  {
   "cell_type": "markdown",
   "metadata": {},
   "source": [
    "Use the display HTML IPython feature."
   ]
  },
  {
   "cell_type": "code",
   "execution_count": 44,
   "metadata": {
    "collapsed": false
   },
   "outputs": [
    {
     "data": {
      "text/html": [
       "\n",
       "<div id=\"chart1\"></div>\n",
       "<script type=\"text/javascript\">new Highcharts.Chart({\"series\":[{\"data\":[[347068800000,5.447],[378604800000,6.324],[410140800000,5.256],[441676800000,3.284],[473299200000,2.396],[504835200000,2.084],[536371200000,-0.125],[567907200000,0.242],[599529600000,1.274],[631065600000,2.778],[662601600000,2.687],[694137600000,3.474],[725760000000,5.046],[757296000000,4.476],[788832000000,2.717],[820368000000,1.733],[851990400000,1.19],[883526400000,1.542],[915062400000,0.593],[946598400000,0.626],[978220800000,1.418],[1009756800000,1.904],[1041292800000,1.346],[1072828800000,1.022],[1104451200000,1.799],[1135987200000,1.92],[1167523200000,1.784],[1199059200000,2.285],[1230681600000,2.738],[1262217600000,0.226],[1293753600000,1.158],[1325289600000,2.498],[1356912000000,2.13],[1388448000000,1.601],[1419984000000,0.896],[1451520000000,1.247],[1483142400000,1.5],[1514678400000,1.7],[1546214400000,1.7],[1577750400000,1.7]],\"name\":\"Value\",\"yAxis\":0}],\"yAxis\":[{}],\"chart\":{\"renderTo\":\"chart1\",\"type\":\"bar\"},\"xAxis\":{\"type\":\"datetime\",\"title\":{\"text\":\"Date\"}},\"legend\":{\"enabled\":true}});</script>\n"
      ],
      "text/plain": [
       "<IPython.core.display.HTML object>"
      ]
     },
     "metadata": {},
     "output_type": "display_data"
    }
   ],
   "source": [
    "display(HTML(\"\"\"\n",
    "<div id=\"chart1\"></div>\n",
    "<script type=\"text/javascript\">%(js_data)s</script>\n",
    "\"\"\" % locals()))"
   ]
  }
 ],
 "metadata": {
  "kernelspec": {
   "display_name": "Python 2",
   "language": "python",
   "name": "python2"
  },
  "language_info": {
   "codemirror_mode": {
    "name": "ipython",
    "version": 2
   },
   "file_extension": ".py",
   "mimetype": "text/x-python",
   "name": "python",
   "nbconvert_exporter": "python",
   "pygments_lexer": "ipython2",
   "version": "2.7.6"
  }
 },
 "nbformat": 4,
 "nbformat_minor": 0
}
